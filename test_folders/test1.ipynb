{
 "cells": [
  {
   "cell_type": "code",
   "execution_count": 1,
   "metadata": {},
   "outputs": [],
   "source": [
    "from bs4 import BeautifulSoup\n",
    "import requests\n",
    "import re"
   ]
  },
  {
   "cell_type": "markdown",
   "metadata": {},
   "source": []
  },
  {
   "cell_type": "code",
   "execution_count": 2,
   "metadata": {},
   "outputs": [],
   "source": [
    "def get_soup(url):\n",
    "    html = requests.get(url).text\n",
    "    soup = BeautifulSoup(html, 'html.parser')\n",
    "    return soup"
   ]
  },
  {
   "cell_type": "code",
   "execution_count": 7,
   "metadata": {},
   "outputs": [],
   "source": [
    "page_url = 'https://en.wikipedia.org/wiki/Hasan-i_Sabbah'"
   ]
  },
  {
   "cell_type": "code",
   "execution_count": 8,
   "metadata": {},
   "outputs": [],
   "source": [
    "soup = get_soup(page_url)"
   ]
  },
  {
   "cell_type": "code",
   "execution_count": 9,
   "metadata": {},
   "outputs": [],
   "source": [
    "def clean_and_get_all_text_from(text):\n",
    "    text = text.strip()\n",
    "    text = re.sub(r'[^\\w\\s]|[\\t]|[\\r]|[\\xa0]', '', text)\n",
    "    text = re.sub(r'\\s+', ' ', text)\n",
    "    text = re.sub(r'\\n+', '', text)\n",
    "\n",
    "    return text"
   ]
  },
  {
   "cell_type": "code",
   "execution_count": 10,
   "metadata": {},
   "outputs": [
    {
     "data": {
      "text/plain": [
       "'Hasani Sabbah Wikipedia Jump to content Main menu Main menu move to sidebar hide Navigation Main pageContentsCurrent eventsRandom articleAbout WikipediaContact usDonate Contribute HelpLearn to editCommunity portalRecent changesUpload file Search Search Appearance Create account Log in Personal tools Create account Log in Pages for logged out editors learn more ContributionsTalk Contents move to sidebar hide Top 1 Sources 2 Early life and conversion Toggle Early life and conversion subsection 21 Qom and Rayy 22 Conversion to Ismailism and training in Cairo 23 Return to Persia 3 Capture of Alamut 4 Foreign views Marco Polo and China 5 Nizari doctrine 6 Personal life 7 In popular culture 8 See also 9 References Toggle References subsection 91 Citations 92 Sources 10 Further reading Toggle Further reading subsection 101 Secondary sources 102 Primary sources 11 External links Toggle the table of contents Hasani Sabbah 41 languages العربيةAzərbaycancaتۆرکجهবলБългарскиCatalàČeštinaDanskDeutschEspañolEuskaraفارسیFrançais한국어हनदBahasa IndonesiaItalianoעבריתҚазақшаKurdîLatinaمصرىNederlands日本語Oʻzbekcha ўзбекчаپنجابیپښتوPolskiPortuguêsRomânăРусскийسرائیکیSlovenščinaSuomiSvenskaТоҷикӣTürkçeУкраїнськаاردوZazaki中文 Edit links ArticleTalk English ReadEditView history Tools Tools move to sidebar hide Actions ReadEditView history General What links hereRelated changesUpload fileSpecial pagesPermanent linkPage informationCite this pageGet shortened URLDownload QR codeWikidata item Printexport Download as PDFPrintable version In other projects Wikimedia Commons Appearance move to sidebar hide From Wikipedia the free encyclopedia Persian religious and military leader This article includes a list of general references but it lacks sufficient corresponding inline citations Please help to improve this article by introducing more precise citations July 2022 Learn how and when to remove this message Hasani Sabbahحسن صباحOld Man of the Mountain Hasani Sabbahs 19th century engravingTitleMawla Sayyidna Our MasterPersonalBornc 1050Qom Seljuk Empire presentday Qom IranDied12 June 1124 aged7374Alamut Castle Nizari Ismaili state presentday Masoudabad Qazvin IranReligionShia IslamDenominationIsmaili ShiaJurisprudenceNizārī Daaim alIslamMain interests Islamic theology Islamic jurisprudence Islamic law OccupationLeader of Nizārī Ismāīlī stateOrganizationOrderAssassinsFounderofNizari Ismaili stateSenior postingPredecessorPosition EstablishedSuccessorKiya BuzurgUmmid Influenced RashidalDin Hamadani Kiya BuzurgUmmid Part of a series on IslamIsmailism Concepts Quran Taʾwīl Imamate Ẓāhir Bātin Nūr Aql ʿIlm Daʿwa Dāʿī Bāb Hujja Satr Taqiya Pīr Numerology Panentheism Reincarnation Titles Seven Pillars Walayah Purity Prayer Charity Fasting Pilgrimage Mustali and Nizari historyBranchessects Sevener Qarmatians Nizari Assassins Mustali Tayyibi Dawoodi Bohras Hebtiahs AtbaiMalak Badar Vakil Progressive Sulaymani Bohra Alavi Bohra Hafizi States Qarmatian state of Bahrayn Fatimid Caliphate Multan Sulayhid dynasty Zurayid dynasty Hamdanid dynasty Nizari Ismaili state People Hamdan Qarmat ibn Faraj ibn Ḥawshab ibn alFadl alJayshani ibn Mansur alYaman Abu Said alJannabi Abu Tahir alJannabi Qadi Numan alNasafi alSijistani alKirmani alShirazi alNaysaburi Nasir Khusraw Pamiris Queen Arwa alSulayhi Dhuayb ibn Musa Hasani Sabbah Hassan Ala Zikrihis Salam Rashid adDin Sinan Pir Sadardin Satpanth Aga Khans Khojas Dāī alMutlaqs Nasir alDin Nasir Hunzai Centers Cairo Anjudan Nizārī strongholds Alamut Atashgah Gerdkuh Lambsar Masyaf MaymunDiz Rudkhan Qalaat alMadiq Other Palace of Queen Arwa Queen Arwa Mosque Nizārī Constitution Delegation Ginans Holy Dua Jamaat Khana Qiyama Batiniyya Druzes AbbasidBaghdad Manifesto House of Knowledge Sunni Bohra Early Imāms Ali Hasan Husayn alSajjad alBaqir Jaʿfar alṢādiq Ismāʿīl ibn Jaʿfar alMubārak Muhammad ibn Ismāʿīl ashShākir ʿAbad Allāh alWāfī Ahmad Ahmad alTaqī Muhammad Ḥusayn arRaḍī ʿAbd Allāh ʿAbd Allāh alMahdī bilLāh alQāʾim alManṣūr Maʿad alMuʿizz liDīn Allāh Nizār alʿAzīz biʾllāh Manṣūr alḤākim biAmr Allāh ʿAlī alẒāhir liiʿzāz Dīn Allāh Maʿad alMustanṣir bilLāh Nizār alMuṣṭafā liDīnilLāh Aḥmad alMustāʿlī bilLāh Manṣūr alĀmir biAḥkāmilLāh ʿAbd alMajīd alḤāfiz liDīn Allāh AbulQāsim alTayyib Incumbent leaders Nizārī Ismāīlī Imām Aga Khan IV Mustali IsmailiTaiyabi Dāī alMutlaqs Alavi Bohra Haatim Zakiyuddin Dawoodi Bohra Mufaddal Saifuddin Qutbi Bohra Taher Fakhruddin Islam portalvte Hasani Sabbaha Persian حسن صباح romanizedḤāsāne Śaḇaḥ c 1050 12 June 1124 also known as Hasan I of Alamut was a religious and military leader founder of the Nizari Ismaili sect widely known as the Hashshashin or the Order of Assassins as well as the Nizari Ismaili state ruling from 1090 to 1124 AD234 Alongside his role as a formidable leader Sabbah was an accomplished scholar of mathematics most notably in geometry as well as astronomy and philosophy especially in epistemology56 He and each of the later Assassin leaders came to be known in the West as the Old Man of the Mountain a name given to the sects leader in the writings of Marco Polo that referenced the sects possession of the commanding mountain fortress of Alamut Castle78 Sourcesedit Hasan is thought to have written an autobiography which did not survive but seems to underlie the first part of an anonymous Ismaili biography entitled Sargozashte Seyyednā Persian سرگذشت سیدنا The latter is known only from quotations made by later Persian authors9 Hasan also wrote a treatise in Persian on the doctrine of talīm called alFusul alarbaa10 The text is no longer in existence but fragments are cited or paraphrased by alShahrastānī and several Persian historians10 Early life and conversionedit Qom and Rayyedit Engraving of Hasani Sabbah riding a horse The possibly autobiographical information found in Sargozashti Seyyednā is the main source for Hasans background and early life According to this Hasani Sabbāh was born in the city of Qom Persia in the 1050s to a family of Twelver Shia9 His father a Kufan Arab reportedly of Yemenite origins had left the Sawād of Kufa located in modern Iraq to settle in the town of Qom1112 one of the first centres of Arab settlement in Persia and a stronghold of Twelver Shia13 Early in his life his family moved to Rayy9 Rayy was a city that had a history of radical Islamic thought since the 9th century with Hamdan Qarmaṭ as one of its teachers It was in this religious centre that Hasan developed a keen interest in metaphysical matters and adhered to the Twelver code of instruction During the day6 he studied at home and mastered palmistry languages philosophy astronomy and mathematics especially geometry5 Rayy was also the home of Ismaili missionaries in the Jibal At the time Ismailism was a growing movement in Persia and other lands east of Egypt14 The Persian Ismailis supported the dawa mission directed by the Fatimid caliphate of Cairo and recognized the authority of the ImamCaliph alMustansir d 1094 though Isfahan rather than Cairo may have functioned as their principal headquarters14 The Ismāīlī mission worked on three layers the lowest was the fidai or foot soldier followed by the rafīk or comrade and finally the dāī or missionary It has been suggested that the popularity of the Ismāīlī religion in Persia was due to the peoples dissatisfaction with the Seljuk rulers who had recently removed local rulers9 Conversion to Ismailism and training in Cairoedit At the age of 17 Hasan converted and swore allegiance to the Fatimid caliph in Cairo Hasans studies did not end with his crossing over He further studied under two other dāiyyayn and as he proceeded on his path he was looked upon with eyes of respect3 Hasans austere and devoted commitment to the dawa brought him in audience with the chief missionary of the region Abdu lMalik ibn Attash Ibn Attash suitably impressed with the young seventeenyearold Hasan made him Deputy Missionary and advised him to go to Cairo to further his studiescitation needed However Hasan did not initially travel to Cairo Some historians have postulated that Hasan following his conversion was playing host to some members of the Fatimid caliphate and this was leaked to the antiFatimid and antiShīa vizier Nizam alMulk This prompted his abandoning Rayy and heading to Cairo in 1076citation needed Hasan took about 2 years to reach Cairo Along the way he toured many other regions that did not fall in the general direction of Egyptcitation needed Isfahan was the first city that he visited He was hosted by one of the Missionaries of his youth a man who had taught the youthful Hasan in Rayy His name was Resi Abufasl and he further instructed Hasancitation needed From here he went to Arran current Azerbaijan hundreds of miles to the north and from there through Armenia Here he attracted the ire of priests following a heated discussion and Hasan was thrown out of the town he was in He then turned south and traveled through Iraq reached Damascus in Syria He left for Egypt from Palestine Records exist some in the fragmentary remains of his autobiography and from another biography written by RashidalDin Hamadani in 1310 to date his arrival in Egypt at 30 August 1078 It is unclear how long Hasan stayed in Egypt about 3 years is the usually accepted amount of time He continued his studies here and became a full missionary Return to Persiaedit Whilst he was in Cairo studying and preaching he incurred the displeasure of the Chief of the Army Badr alJamalī1 This may have been a result of the fact that Hasan supported Nizar the Ismaili ImamCaliph alMustanṣirs elder son as the next Imam Hasan was briefly imprisoned by Badr alJamali The collapse of a minaret of the jail was taken to be an omen in favor of Hasan and he was promptly released and deportedcitation needed The ship that he was traveling on was wrecked He was rescued and taken to Syria Traveling via Aleppo and Baghdad he terminated his journey at Isfahan in 1081 Hasans life now was totally devoted to the mission Hasan toured extensively throughout Persia In northern Persia touching the south shore of the Caspian Sea are the mountains of Alborzcitation needed These mountains were home to a people who had traditionally resisted attempts by both Arabs and Turkish subjugation this place was also a home of Shia leaning The news of this Ismāīlīs activities reached Nizam alMulk who dispatched his soldiers with the orders for Hasans capture Hasan evaded them and went deeper into the mountainscitation needed Capture of Alamutedit Further information NizariSeljuk wars The Hashshashins fortress of Alamut Castle His search for a base from which to guide his mission ended when in 1088 he found the castle of Alamut in the Rudbar area modern Qazvin Irancitation needed It was a fort that stood guard over a valley that was about fifty kilometers long and five kilometers widecitation needed This fortress had been built about the year 865 legend has it that it was built by a king who saw his eagle fly up to and perch upon a rock a propitious omen the importance of which this king Wah Sudan ibn Marzuban understood Likening the perching of the eagle to a lesson given by it he called the fort Aluh Amukht the Eagles Teaching15 Hasans takeover of the fort was conducted without any significant bloodshed To effect this transition Hasan employed a patient and deliberate strategy one which took the better part of two years to effect First Hasan sent his Daʻiyyīn and Rafīks to win over the villages in the valley and their inhabitants Next key people amongst this populace were converted and finally in 1090 Hasan took over the fort by infiltrating it with his converts16 Hasan gave the former owner a draft drawn on the name of a wealthy landlord and told him to obtain the promised money from this man when the landlord saw the draft with Hasans signature he immediately paid the amount to the forts owner astonishing himcitation needed Another probably apocryphal version of the takeover states that Hasan offered 3000 gold dinars to the forts owner for the amount of land that would fit a buffalos hide The terms having been agreed upon Hasan cut the hide into strips and linked them into a large ring around the perimeter of the fort whose owner was thus undone by his own greedcitation needed While legend holds that after capturing Alamut Hasan thereafter devoted himself so faithfully to study that in the nearly 35 years he was there he never left his quarters excepting only two times when he went up to the roofcitation needed this reported isolation is highly doubtful given his extensive recruiting and organizational involvement in the growing Ismāīlī insurrections in Persia and Syria17 Nonetheless Hasan was highly educated and was known for austerity studying translating praying fasting and directing the activities of the Daʻwa the propagation of the Nizarī doctrine was headquartered at Alamut He knew the Qurān by heart could quote extensively from the texts of most Muslim sects and apart from philosophy was well versed in mathematics astronomy alchemy medicine architecture and the major scientific disciplines of his timecitation needed In a major departure from tradition Hasan declared Persian to be the language of holy literature for Nizaris a decision that resulted in all the Nizari Ismāīlī literature from Persia Syria Afghanistan and Central Asia to be transcribed in Persian for several centuries15 Foreign views Marco Polo and Chinaedit Hasani Sabbah as depicted in Livre des merveilles The leaders of Nizari Ismailis in Persia were designated by Marco Polo using a Syrian equivalent term known in Europe at that time18 as Elder or Old Man of the Mountain Polos travelogue ca 1300 describes the Old Man of the Mountain as a charlatan who devised plots to convert young men to his sect At the court of the Old Man of the Mountain they were educated in various languages and customs courtly etiquette and trained in martial and other skills7 At Alamut they had impressive libraries whose collections included books on various religious traditions philosophical and scientific texts and scientific equipment19 Xishiji Chinese 西使記 a Chinese manuscript completed in 1263 relates a story similar to that of Polo The sect leaders ordered to send assassins to hide in those kingdoms which did not surrender They stabbed their lords and women as well and they died20 Nizari doctrineedit Historians and scholars identify Hasani Sabbah as the founder of the Nizari Assassins and their doctrine It developed during the struggle for succession of Nizar to the Fatimid throne in Cairo that eventually laid the foundation of the Nizari Ismailism Shia Islam Since then as a basic element of conservative nature the Ismaili Imamate includes a hidden imam in addition to the visible or hazar meaning apparent21 imam of the time acting as such in a community An important task of the latter is the proliferation of the doctrine and of the undisclosed imams spiritual guidance in learning centers having instructors proficient in teaching techniques Devotion of the true believers having absolute faith22 in the beliefs is another element originating from the times of Sabbah in Northern Iran23 who reportedly was so devout that he even had one of his sons executed after he was accused of drunkenness24 A Nizari assassin is identified as fidai or devotee who offers his life for others or in the service of a particular cause25 Personal lifeedit Hasan is known for his ascetic and austere religious lifestyle At his modest living quarters in the Alamut Castle he spent most of his time reading writing and administration During his 45 years of residence in Alamut he apparently left his quarters only twice to ascend the rooftop26 Hasani Sabbah probably had one wife two daughters and two sons2726 Hasans wife and daughters were sent to Gerdkuh as a safe place during Shirgirs campaign against Alamut they never returned They lived on spinning26 He had both his sons executed Muhammad for khamr and Ustad Husayn for his suspected role in the murder of dai Husayn Qaini26 Hassan was highly revered by the Nizari community whose members called him Sayyidna Our Master and regularly visited his mausoleum in Rudbar before it was demolished by the Mongols26 In popular cultureedit Betty Bouthoul published a popular book in French titled Le grand maître des assassins Master of the Assassins about Hasani Sabbāh in 193628 A 1938 novel named Alamut by Vladimir Bartol is based on Hasans rise to power2930 The British space rock group Hawkwind recorded a song called Hassan I Sahba on its 1977 album Quark Strangeness and Charm31 This song was also recorded by the Brain Surgeons on their album Malpractise 32 Hasani Sabbāh is mentioned often by his moniker The Old Man of the Mountain in many of William S Burroughss novels including Nova Express Cities of the Red Night The Place of Dead Roads and The Western Lands According to Barry Miles book The Beat Hotel Burroughs was introduced to Hasan through Betty Bouthouls book while staying in Paris France33 The full story of Burroughs interest in Hassan Sabbah was told in the 2023 book Two Assassins by Oliver Harris and Farid Ghadami34 He is portrayed in the Turkish TV series Uyanış Büyük Selçuklu by Gürkan Uygun35 He is portrayed in the Egyptian TV series ElHashashin by Karim Abdel Aziz36 See alsoedit Aga Khan IV Firdawsi Bareen Referencesedit Citationsedit a b Daftary 2007 p313 Frischauer Willi 1970 Chapter II The Aga Khans The Bodley Head p40 ISBN0370013042 a b Lewis Bernard 1967 The Assassins a Radical Sect of Islam pp 3865 Oxford University Press Chisholm Hugh 1911 Ḥasane Ṣabbāḥ Encyclopædia Britannica 11thed Cambridge University Press a b E G Brown Literary History of Persia Vol 1 p 201 a b Nizam alMulk Tusi pg 420 foot note No 3 a b Wasserman James 8 August 2017 A Note to the Reader on the Historical Context Templar Heresy A Story of Gnostic Illumination Destiny Books ISBN9781620556580 Daftary Farhad 2012 Historical Dictionary of the Ismailis Scarecrow Press pp15 69 ISBN9780810861640 Retrieved 23 September 2020 a b c d Daftary Farhad 2011 The Ismāīlīs their history and doctrines 2ed Cambridge New York NY Cambridge Univ Press p311 ISBN9780521850841 a b Farhad Daftary Ismaili Literature A Bibliography of Sources and Studies IBTauris 2004 115 Lewis Bernard November 2002 3 The New Preaching The Assassins Basic Books p38 ISBN9780465004980 Hasani Sabbah was born in the city of Qumm one of the first centres of Arab settlement in Persia and a stronghold of Twelver Shiism His father a Twelver Shiite had come from Kufa in Iraq and was said to be of Yemeni origin more fancifully a descendant of the ancient Himyaritic kings of Southern Arabia Daftary 2007 p313 His father Ali b Muhammad b Jafar b alHusayn b Muhammad b alSabbah alHimyari a Kufan Arab claiming Yamani origins had migrated from the Sawad of Kufa to the traditionally Shii town of Qumm in Persia Lewis Bernard 1967 The Assassins A Radical Sect in Islam Oxford University Press a b Daftary Farhad The Ismailis pp 31011 a b Daftary 2007 p316 Daftary 2007 p317 Daftary 2007 pp318324 Aziz Abualy A A Brief History of Ismailism Preface amaanaorg Retrieved 8 January 2018 Episode Synopses The Ismaili Islamic Publications Limited 24 July 2008 Retrieved 5 February 2018 The Mountain without the Old Man Xishiji on Ismailis PROCEEDINGS OF THE 2ND INTERNATIONAL ISMAILI STUDIES CONFERENCE PDF Carleton University Canada March 2017 Retrieved 8 January 2018 Mumtaz Ali Tajddin Hazar Imam Ismaili Electronic Library and Database Retrieved 9 March 2018 Webel Charles P 2004 Depicting the Indescribable A Brief History of Terrorism Terror Terrorism and the Human Condition Palgrave MacMillan p25 ISBN1403961611 DTIC US Army 2005 Terror in Antiquity First to Fourteenth Century AD A Military Guide to Terrorism in the TwentyFirst Century US Army DCSINT Handbook No 1 Version 30 Defense Technical Information Center Crenshaw Martha Pimlott John 1997 The Assassins a terror cult International Encyclopedia of Terrorism Fitzroy Dearborn ISBN157958022X Fedāʾī Encyclopædia Iranica Retrieved 8 January 2018 a b c d e Daftary 2007 pp343344 نسب مسعود مطهری سپاهی مجتبی کاربرد رویکرد شناسی در مطالعات تمدن اسلامی فصلنامه تاریخ فرهنگ و تمدن اسلامی in Persian 9 30 734 ISSN22520538 Bouthoul Betty 1936 Le grand maître des assassins Armand Colin ASINB07KW9FGLS Bassas Carlos 29 December 2016 Assassins Creed Diario de Navarra in Spanish Retrieved 5 February 2018 Rad Chloi 27 December 2017 11 videojuegos que no sabías que están basados en libros IGN in Spanish Retrieved 5 February 2018 Partridge Christopher June 2018 High Culture Drugs Mysticism and the Pursuit of Transcendence in the Modern World Oxford University Press p102 ISBN9780190459130 The Brain Surgeons Malpractise Discogs Retrieved 7 June 2024 Miles Barry 2000 The Beat Hotel New York Grove Press p204 ISBN0802138179 Harris Oliver 2023 Two Assassins William Burroughs Hassan Sabbah Moloko ISBN9783910431102 TAM KADRO Uyanış Büyük Selçuklu dizisi oyuncuları ve karakterleri açıklandı İşte Uyanış Büyük Selçuklu oyuncu kadrosu CNN TÜRK in Turkish يجسده كريم عبد العزيز من هو حسن الصباح مؤسس طائفة الحشاشين اليوم السابع in Arabic 26 April 2023 Retrieved 6 March 2024 Full name Hasan ibn Muhammad ibn Jafar ibn Husayn ibn Muhammad ibn alSabbah1 Arabic حسن الصباح أو الحسن بن علي بن محمد بن الصباح الحميري Sourcesedit Daftary Farhad 2007 The Ismāʿılıs Their History and Doctrines Seconded Cambridge Cambridge University Press ISBN9780521616362 Further readingedit Secondary sourcesedit Daftary Farhad A Short History of the Ismāīlīs Edinburgh Edinburgh University Press 1998 Daftary Farhad The Assassin Legends Myths of the Ismāīlīs London IB Tauris Co Ltd 1994 Reviewed by Babak Nahid at Ismailinet Daftary Farhad Hasani Sabbāh and the Origins of the Nizārī Ismāīlī movement In Mediaeval Ismāīlī History and Thought ed Farhad Daftary Cambridge Cambridge University Press 1996 181204 Hodgson Marshall The Order of Assassins The Struggle of the Early Nizārī Ismāīlī Against the Islamic World The Hague Mouton 1955 Hodgson Marshall The Ismāīlī State In The Cambridge History of Iran vol 5 The Saljuq and Mongol Periods ed JA Boyle Cambridge Cambridge University Press 1968 42282 Irwin Robert 2002 Islam and the Crusades 10961699 In RileySmith Jonathan ed The Oxford History of the Crusades Oxford pp211257cite book CS1 maint location missing publisher link Lewis Bernard The Assassins A Radical Sect in Islam New York Basic Books 1968 Madelung Wilferd Religious Trends in Early Islamic Iran Albany Bibliotheca Persica 1988 1015 Primary sourcesedit Hasani Sabbah alFuṣūl alarbaa The Four Chapters tr Marshall GS Hodgson in Ismaili Literature Anthology A Shii Vision of Islam ed Hermann Landolt Samira Sheikh and Kutub Kassam London 2008 pp14952 Persian treatise on the doctrine of talīm The text is no longer extant but fragments are cited or paraphrased by alShahrastānī and several Persian historians Sarguzashte Sayyidnā External linksedit HASAN BIN SABBAH AND NIZARI ISMAILI STATE IN ALAMUT The life of HasaniSabbah as part of an online book on the Assassins of Alamut Arkon Daraul on HasaniSabbah An illustrated article on the Order of Assassins William S Burroughs invocation of HasaniSabbah in Nova Express Assassins entry in the Encyclopedia of the Orient Archived 23 November 2011 at the Wayback Machine Review of the book The Assassin Legends Myths of the Ismailis I B Tauris Co Ltd London 1994 213 pp by Babak Nahid Department of Comparative Literature University of California Los Angeles Ismaili Imams and their Love for Knowledge Islamic Publications Limited Authority control databases International FAST ISNI VIAF 2 WorldCat 2 National Spain Germany Israel United States Netherlands Retrieved from httpsenwikipediaorgwindexphptitleHasani_Sabbaholdid1229177739 Categories 1050s births1124 deaths11thcentury Ismailis12thcentury IsmailisCult leadersMedieval legendsPeople from AlamutPeople from QomPrisoners and detainees of the Fatimid CaliphatePeople of the NizariSeljuk wars11thcentury Arab people12thcentury Arab peopleHidden categories CS1 Persianlanguage sources faCS1 Spanishlanguage sources esCS1 Turkishlanguage sources trCS1 Arabiclanguage sources arArticles containing Arabiclanguage textArticles with short descriptionShort description is different from WikidataArticles lacking intext citations from July 2022All articles lacking intext citationsArticles containing Persianlanguage textArticles having different image on Wikidata and WikipediaAll articles with unsourced statementsArticles with unsourced statements from May 2018Articles with unsourced statements from June 2014Articles with unsourced statements from July 2022CS1 maint location missing publisherWebarchive template wayback linksUse dmy dates from July 2020Articles with FAST identifiersArticles with ISNI identifiersArticles with VIAF identifiersArticles with WorldCat Entities identifiersArticles with BNE identifiersArticles with GND identifiersArticles with J9U identifiersArticles with LCCN identifiersArticles with NTA identifiers This page was last edited on 15 June 2024 at 0908UTC Text is available under the Creative Commons AttributionShareAlike License 40 additional terms may apply By using this site you agree to the Terms of Use and Privacy Policy Wikipedia is a registered trademark of the Wikimedia Foundation Inc a nonprofit organization Privacy policy About Wikipedia Disclaimers Contact Wikipedia Code of Conduct Developers Statistics Cookie statement Mobile view'"
      ]
     },
     "execution_count": 10,
     "metadata": {},
     "output_type": "execute_result"
    }
   ],
   "source": [
    "clean_text = clean_and_get_all_text_from(soup.get_text())\n",
    "clean_text"
   ]
  },
  {
   "cell_type": "code",
   "execution_count": 60,
   "metadata": {},
   "outputs": [
    {
     "name": "stdout",
     "output_type": "stream",
     "text": [
      "17047\n"
     ]
    }
   ],
   "source": [
    "print(len(clean_text))"
   ]
  },
  {
   "cell_type": "code",
   "execution_count": 16,
   "metadata": {},
   "outputs": [],
   "source": [
    "with open(r'K:\\python\\gui\\qt\\NotBad2\\words.txt', 'r') as file:\n",
    "    words = file.read().split()\n",
    "    words = [word.lower() for word in words]\n",
    "    words.sort(key=lambda w: len(w))\n",
    "with open(r'K:\\python\\gui\\qt\\NotBad2\\words.txt', 'w') as file:\n",
    "    file.write('\\n'.join(words))"
   ]
  },
  {
   "cell_type": "code",
   "execution_count": 14,
   "metadata": {},
   "outputs": [
    {
     "data": {
      "text/plain": [
       "45"
      ]
     },
     "execution_count": 14,
     "metadata": {},
     "output_type": "execute_result"
    }
   ],
   "source": [
    "len('pneumonoultramicroscopicsilicovolcanoconiosis')"
   ]
  }
 ],
 "metadata": {
  "kernelspec": {
   "display_name": "Python 3",
   "language": "python",
   "name": "python3"
  },
  "language_info": {
   "codemirror_mode": {
    "name": "ipython",
    "version": 3
   },
   "file_extension": ".py",
   "mimetype": "text/x-python",
   "name": "python",
   "nbconvert_exporter": "python",
   "pygments_lexer": "ipython3",
   "version": "3.11.0"
  }
 },
 "nbformat": 4,
 "nbformat_minor": 2
}
